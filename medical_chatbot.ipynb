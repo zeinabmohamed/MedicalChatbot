{
  "nbformat": 4,
  "nbformat_minor": 0,
  "metadata": {
    "colab": {
      "name": "Copy of medical_chatbot.ipynb",
      "provenance": [],
      "collapsed_sections": [],
      "machine_shape": "hm",
      "include_colab_link": true
    },
    "kernelspec": {
      "name": "python3",
      "display_name": "Python 3"
    },
    "language_info": {
      "name": "python"
    },
    "accelerator": "GPU"
  },
  "cells": [
    {
      "cell_type": "markdown",
      "metadata": {
        "id": "view-in-github",
        "colab_type": "text"
      },
      "source": [
        "<a href=\"https://colab.research.google.com/github/zeinabmohamed/MedicalChatbot/blob/main/medical_chatbot.ipynb\" target=\"_parent\"><img src=\"https://colab.research.google.com/assets/colab-badge.svg\" alt=\"Open In Colab\"/></a>"
      ]
    },
    {
      "cell_type": "markdown",
      "source": [
        "## imports"
      ],
      "metadata": {
        "id": "MfF1QckLYZ0K"
      }
    },
    {
      "cell_type": "code",
      "source": [
        "# stopwords\n",
        "!pip install --user -U nltk\n",
        "import nltk\n",
        "from nltk.corpus import stopwords\n",
        "# keras\n",
        "from keras import backend as K\n",
        "from keras.layers import Layer\n",
        "from keras.preprocessing.sequence import pad_sequences\n",
        "# numpy\n",
        "import numpy as np\n",
        "import itertools\n",
        "# Basic package\n",
        "from time import time\n",
        "import pandas as pd\n",
        "from sklearn.model_selection import train_test_split\n",
        "import keras\n",
        "from gensim.models import KeyedVectors\n",
        "from keras.models import Model\n",
        "from keras.layers import Input, Embedding, LSTM, Dense, Flatten, Activation, RepeatVector, Permute, Lambda, \\\n",
        "    Bidirectional, TimeDistributed, Dropout, Conv1D, GlobalMaxPool1D\n",
        "from keras.layers.merge import multiply, concatenate\n",
        "import keras.backend as K\n",
        "from tensorflow.keras.optimizers import Adam\n",
        "## donwnload binary files\n",
        "!pip install wget\n",
        "import wget\n",
        "## Google news embedding model"
      ],
      "metadata": {
        "id": "GB2I9I0PYeLC",
        "colab": {
          "base_uri": "https://localhost:8080/"
        },
        "outputId": "64f335e2-aae8-4440-b8b8-5a30366c4d09"
      },
      "execution_count": 1,
      "outputs": [
        {
          "output_type": "stream",
          "name": "stdout",
          "text": [
            "Requirement already satisfied: nltk in /usr/local/lib/python3.7/dist-packages (3.2.5)\n",
            "Collecting nltk\n",
            "  Downloading nltk-3.6.7-py3-none-any.whl (1.5 MB)\n",
            "\u001b[K     |████████████████████████████████| 1.5 MB 5.1 MB/s \n",
            "\u001b[?25hRequirement already satisfied: joblib in /usr/local/lib/python3.7/dist-packages (from nltk) (1.1.0)\n",
            "Collecting regex>=2021.8.3\n",
            "  Downloading regex-2022.1.18-cp37-cp37m-manylinux_2_17_x86_64.manylinux2014_x86_64.whl (748 kB)\n",
            "\u001b[K     |████████████████████████████████| 748 kB 46.7 MB/s \n",
            "\u001b[?25hRequirement already satisfied: tqdm in /usr/local/lib/python3.7/dist-packages (from nltk) (4.62.3)\n",
            "Requirement already satisfied: click in /usr/local/lib/python3.7/dist-packages (from nltk) (7.1.2)\n",
            "Installing collected packages: regex, nltk\n",
            "\u001b[33m  WARNING: The script nltk is installed in '/root/.local/bin' which is not on PATH.\n",
            "  Consider adding this directory to PATH or, if you prefer to suppress this warning, use --no-warn-script-location.\u001b[0m\n",
            "Successfully installed nltk-3.6.7 regex-2022.1.18\n",
            "Collecting wget\n",
            "  Downloading wget-3.2.zip (10 kB)\n",
            "Building wheels for collected packages: wget\n",
            "  Building wheel for wget (setup.py) ... \u001b[?25l\u001b[?25hdone\n",
            "  Created wheel for wget: filename=wget-3.2-py3-none-any.whl size=9675 sha256=5772fac1abdedb55734f40d32da82c1c149a6e9c4c2e2a2e393fbdf716f6d150\n",
            "  Stored in directory: /root/.cache/pip/wheels/a1/b6/7c/0e63e34eb06634181c63adacca38b79ff8f35c37e3c13e3c02\n",
            "Successfully built wget\n",
            "Installing collected packages: wget\n",
            "Successfully installed wget-3.2\n"
          ]
        }
      ]
    },
    {
      "cell_type": "markdown",
      "source": [
        "## Load stopwords"
      ],
      "metadata": {
        "id": "9HsEOvoIYqw3"
      }
    },
    {
      "cell_type": "code",
      "source": [
        "nltk.download('stopwords')\n",
        "stops_words = set(stopwords.words('english'))"
      ],
      "metadata": {
        "colab": {
          "base_uri": "https://localhost:8080/"
        },
        "id": "AzsZd4VYG3Bx",
        "outputId": "cb733f45-6edc-44ba-8692-3a268abd4b7b"
      },
      "execution_count": 2,
      "outputs": [
        {
          "output_type": "stream",
          "name": "stdout",
          "text": [
            "[nltk_data] Downloading package stopwords to /root/nltk_data...\n",
            "[nltk_data]   Unzipping corpora/stopwords.zip.\n"
          ]
        }
      ]
    },
    {
      "cell_type": "markdown",
      "source": [
        "## Downlaod GoogleNews-vectors-negative300"
      ],
      "metadata": {
        "id": "bUDdLkmgb4hq"
      }
    },
    {
      "cell_type": "code",
      "source": [
        "url = 'https://s3.amazonaws.com/dl4j-distribution/GoogleNews-vectors-negative300.bin.gz'\n",
        "filename = wget.download(url)"
      ],
      "metadata": {
        "id": "XslaufRZb5Dj"
      },
      "execution_count": 3,
      "outputs": []
    },
    {
      "cell_type": "markdown",
      "source": [
        "## Helper Funcations"
      ],
      "metadata": {
        "id": "r31ggLX7Y1U7"
      }
    },
    {
      "cell_type": "markdown",
      "source": [
        "#### Data preprocessing"
      ],
      "metadata": {
        "id": "BZLDzzoPY59g"
      }
    },
    {
      "cell_type": "markdown",
      "source": [
        "###### Text to list"
      ],
      "metadata": {
        "id": "MNZD388dZNzW"
      }
    },
    {
      "cell_type": "code",
      "source": [
        "def text_to_word_list(text):  # Text segmentation\n",
        "    text = str(text)\n",
        "    text = text.lower()\n",
        "    # Text cleaning rules for English text\n",
        "    import re\n",
        "    text = re.sub(r\"[^A-Za-z0-9^,!.\\/'+-=]\", \" \", text)\n",
        "    text = re.sub(r\"what's\", \"what is \", text)\n",
        "    text = re.sub(r\"\\'s\", \" \", text)\n",
        "    text = re.sub(r\"\\'ve\", \" have \", text)\n",
        "    text = re.sub(r\"can't\", \"cannot \", text)\n",
        "    text = re.sub(r\"n't\", \" not \", text)\n",
        "    text = re.sub(r\"i'm\", \"i am \", text)\n",
        "    text = re.sub(r\"\\'re\", \" are \", text)\n",
        "    text = re.sub(r\"\\'d\", \" would \", text)\n",
        "    text = re.sub(r\"\\'ll\", \" will \", text)\n",
        "    text = re.sub(r\",\", \" \", text)\n",
        "    text = re.sub(r\"\\.\", \" \", text)\n",
        "    text = re.sub(r\"!\", \" ! \", text)\n",
        "    text = re.sub(r\"\\/\", \" \", text)\n",
        "    text = re.sub(r\"\\^\", \" ^ \", text)\n",
        "    text = re.sub(r\"\\+\", \" + \", text)\n",
        "    text = re.sub(r\"\\-\", \" - \", text)\n",
        "    text = re.sub(r\"\\=\", \" = \", text)\n",
        "    text = re.sub(r\"'\", \" \", text)\n",
        "    text = re.sub(r\"(\\d+)(k)\", r\"\\g<1>000\", text)\n",
        "    text = re.sub(r\":\", \" : \", text)\n",
        "    text = re.sub(r\" e g \", \" eg \", text)\n",
        "    text = re.sub(r\" b g \", \" bg \", text)\n",
        "    text = re.sub(r\" u s \", \" american \", text)\n",
        "    text = re.sub(r\"\\0s\", \"0\", text)\n",
        "    text = re.sub(r\" 9 11 \", \"911\", text)\n",
        "    text = re.sub(r\"e - mail\", \"email\", text)\n",
        "    text = re.sub(r\"j k\", \"jk\", text)\n",
        "    text = re.sub(r\"\\s{2,}\", \" \", text)\n",
        "\n",
        "    text = text.split()\n",
        "\n",
        "    return text"
      ],
      "metadata": {
        "id": "PukJtsHTZItB"
      },
      "execution_count": 4,
      "outputs": []
    },
    {
      "cell_type": "markdown",
      "source": [
        "###### Words embedding"
      ],
      "metadata": {
        "id": "iQ7rKW5BZpag"
      }
    },
    {
      "cell_type": "code",
      "source": [
        "def make_w2v_embeddings(flag,word2vec, df, embedding_dim):  # Convert words to word vectors\n",
        "    vocabs = {}  # word number\n",
        "    vocabs_count = 0  # word count counter\n",
        "\n",
        "    vocabs_not_w2v = {}  # words that cannot be represented by word vectors\n",
        "    vocabs_not_w2v_count = 0  # Word count that cannot be represented by word vectors\n",
        "\n",
        "    for index, row in df.iterrows():\n",
        "        # print processing progress\n",
        "        if index != 0 and index % 1000 == 0:\n",
        "            print(str(index) + \" sentences embedded.\")\n",
        "\n",
        "        for question in ['question1', 'question2']:\n",
        "            q2n = []  # q2n -> question to numbers representation\n",
        "            words = text_to_word_list(row[question])\n",
        "\n",
        "            for word in words:\n",
        "                if word in stops_words:  # remove stop words\n",
        "                  continue\n",
        "                # The word of OOV is put into a dictionary that cannot be represented by a word vector, and the value is 1\n",
        "                if word not in word2vec and word not in vocabs_not_w2v:  \n",
        "                    vocabs_not_w2v_count += 1\n",
        "                    vocabs_not_w2v[word] = 1   \n",
        "                if word not in vocabs:  # Non-OOV words, extract the corresponding id\n",
        "                    vocabs_count += 1\n",
        "                    vocabs[word] = vocabs_count\n",
        "                    q2n.append(vocabs_count)\n",
        "                else:\n",
        "                    q2n.append(vocabs[word])\n",
        "            df.at[index, question + '_n'] = q2n\n",
        "\n",
        "    embeddings = 1 * np.random.randn(len(vocabs) + 1, embedding_dim)  # Randomly initialize a matrix of shape [number of all words, word vector dimension]\n",
        "  \n",
        "    embeddings[0] = 0  #The first row is filled with 0, because there is no word with index 0\n",
        "\n",
        "    for index in vocabs:\n",
        "        vocab_word = vocabs[index]\n",
        "        if vocab_word in word2vec:\n",
        "            embeddings[index] = word2vec[vocab_word]\n",
        "    del word2vec\n",
        "\n",
        "    return df, embeddings"
      ],
      "metadata": {
        "id": "VlnddRRoZsds"
      },
      "execution_count": 12,
      "outputs": []
    },
    {
      "cell_type": "markdown",
      "source": [
        "###### Add Zero padding"
      ],
      "metadata": {
        "id": "U7qe7gZWaxRO"
      }
    },
    {
      "cell_type": "code",
      "source": [
        "def split_and_zero_padding(df, max_seq_length):  # Adjust the length of tokens\n",
        "\n",
        "    # Convert training set matrix to dictionary\n",
        "    X = {'left': df['question1_n'], 'right': df['question2_n']}\n",
        "\n",
        "    # Adjust to the specified length\n",
        "    for dataset, side in itertools.product([X], ['left', 'right']):\n",
        "        dataset[side] = pad_sequences(dataset[side], padding='pre', truncating='post', maxlen=max_seq_length)\n",
        "\n",
        "    return dataset"
      ],
      "metadata": {
        "id": "6WqiKm9jiNZv"
      },
      "execution_count": 6,
      "outputs": []
    },
    {
      "cell_type": "markdown",
      "source": [
        "###### Setup Similarity funaction : ManDist"
      ],
      "metadata": {
        "id": "xZMlzBV8bGzh"
      }
    },
    {
      "cell_type": "code",
      "source": [
        "class ManDist(Layer):  # Manhattan distance calculation encapsulated into keras layer\n",
        "\n",
        "    # Initialize the ManDist layer, no parameter input is required at this time\n",
        "    def __init__(self, **kwargs):\n",
        "        self.result = None\n",
        "        super(ManDist, self).__init__(**kwargs)\n",
        "\n",
        "    # Automatically build ManDist layer\n",
        "    def build(self, input_shape):\n",
        "        super(ManDist, self).build(input_shape)\n",
        "\n",
        "    # Calculate Manhattan distance\n",
        "    def call(self, x, **kwargs):\n",
        "        self.result = K.exp(-K.sum(K.abs(x[0] - x[1]), axis=1, keepdims=True))\n",
        "        return self.result\n",
        "\n",
        "    # return result\n",
        "    def compute_output_shape(self, input_shape):\n",
        "        return K.int_shape(self.result)"
      ],
      "metadata": {
        "id": "MhCBoSymbNCS"
      },
      "execution_count": 7,
      "outputs": []
    },
    {
      "cell_type": "markdown",
      "source": [
        "## Model Hyperparameter"
      ],
      "metadata": {
        "id": "gDl5IsJlcLHM"
      }
    },
    {
      "cell_type": "code",
      "source": [
        "# ------------------Preloading------------------ #\n",
        "# English training options, English training set is used by default\n",
        "\n",
        "TRAIN_CSV = './train.csv'\n",
        "embedding_path = 'GoogleNews-vectors-negative300.bin.gz'\n",
        "flag = 'en'\n",
        "embedding_dim = 300\n",
        "max_seq_length = 32\n",
        "batch_size = 64\n",
        "n_epoch = 6\n",
        "n_hidden = 100\n",
        "\n",
        "savepath = './en_BILSTM_Attnetion_Model.h5'"
      ],
      "metadata": {
        "id": "V5sUkwgPicuf"
      },
      "execution_count": 8,
      "outputs": []
    },
    {
      "cell_type": "markdown",
      "source": [
        "## Load word2vec"
      ],
      "metadata": {
        "id": "zMVfV60ccrX2"
      }
    },
    {
      "cell_type": "code",
      "source": [
        "# Whether to enable pre-trained word vectors, use randomly initialized word vectors by default\n",
        "# Load word vectors\n",
        "print(\"Loading word2vec model(it may takes 2-3 mins) ...\")\n",
        "embedding_dict = KeyedVectors.load_word2vec_format(embedding_path, binary=True)\n",
        "print(\"Loading word2vec model Done 🎉\")"
      ],
      "metadata": {
        "id": "PieHmagRi5sr",
        "outputId": "3ea12bfe-9262-490d-fc44-6e05f33a3504",
        "colab": {
          "base_uri": "https://localhost:8080/"
        }
      },
      "execution_count": 9,
      "outputs": [
        {
          "output_type": "stream",
          "name": "stdout",
          "text": [
            "Loading word2vec model(it may takes 2-3 mins) ...\n",
            "Loading word2vec model Done 🎉\n"
          ]
        }
      ]
    },
    {
      "cell_type": "markdown",
      "source": [
        "##Read and load the training set"
      ],
      "metadata": {
        "id": "mqQt5ehcdQ6e"
      }
    },
    {
      "cell_type": "code",
      "source": [
        "train_df = pd.read_csv(TRAIN_CSV)\n",
        "for q in ['question1', 'question2']:\n",
        "    train_df[q + '_n'] = train_df[q]"
      ],
      "metadata": {
        "id": "BHXXixPAjncI"
      },
      "execution_count": 10,
      "outputs": []
    },
    {
      "cell_type": "markdown",
      "source": [
        "##Vectorize the training set words"
      ],
      "metadata": {
        "id": "TEFw4hp-dXqW"
      }
    },
    {
      "cell_type": "code",
      "source": [
        "train_df, embeddings = make_w2v_embeddings(flag, embedding_dict, train_df, embedding_dim=embedding_dim)"
      ],
      "metadata": {
        "id": "vnfQ3utBj_eQ",
        "colab": {
          "base_uri": "https://localhost:8080/"
        },
        "outputId": "90cd582c-1f60-4662-c1b5-b88cd5d637b7"
      },
      "execution_count": 13,
      "outputs": [
        {
          "output_type": "stream",
          "name": "stdout",
          "text": [
            "1000 sentences embedded.\n",
            "2000 sentences embedded.\n",
            "3000 sentences embedded.\n",
            "4000 sentences embedded.\n",
            "5000 sentences embedded.\n",
            "6000 sentences embedded.\n",
            "7000 sentences embedded.\n",
            "8000 sentences embedded.\n",
            "9000 sentences embedded.\n"
          ]
        }
      ]
    },
    {
      "cell_type": "code",
      "source": [
        "train_df['lenq1'] = train_df['question1'].astype(str).str.len()\n",
        "train_df['lenq2'] = train_df['question2'].astype(str).str.len()\n",
        "train_df['lenq1_n'] = len(train_df['question1_n'])\n",
        "train_df['lenq2_n'] = len(train_df['question2_n'])\n",
        "\n",
        "train_df"
      ],
      "metadata": {
        "id": "mtG_oVVgkyWD",
        "colab": {
          "base_uri": "https://localhost:8080/",
          "height": 676
        },
        "outputId": "43b8796b-e866-4842-c5c9-0384c29c2b42"
      },
      "execution_count": 14,
      "outputs": [
        {
          "output_type": "execute_result",
          "data": {
            "text/html": [
              "\n",
              "  <div id=\"df-9bdfbc5d-4317-4e02-b91a-4b49d31b9e31\">\n",
              "    <div class=\"colab-df-container\">\n",
              "      <div>\n",
              "<style scoped>\n",
              "    .dataframe tbody tr th:only-of-type {\n",
              "        vertical-align: middle;\n",
              "    }\n",
              "\n",
              "    .dataframe tbody tr th {\n",
              "        vertical-align: top;\n",
              "    }\n",
              "\n",
              "    .dataframe thead th {\n",
              "        text-align: right;\n",
              "    }\n",
              "</style>\n",
              "<table border=\"1\" class=\"dataframe\">\n",
              "  <thead>\n",
              "    <tr style=\"text-align: right;\">\n",
              "      <th></th>\n",
              "      <th>id</th>\n",
              "      <th>qid1</th>\n",
              "      <th>qid2</th>\n",
              "      <th>question1</th>\n",
              "      <th>question2</th>\n",
              "      <th>is_duplicate</th>\n",
              "      <th>question1_n</th>\n",
              "      <th>question2_n</th>\n",
              "      <th>lenq1</th>\n",
              "      <th>lenq2</th>\n",
              "      <th>lenq1_n</th>\n",
              "      <th>lenq2_n</th>\n",
              "    </tr>\n",
              "  </thead>\n",
              "  <tbody>\n",
              "    <tr>\n",
              "      <th>0</th>\n",
              "      <td>31</td>\n",
              "      <td>63</td>\n",
              "      <td>64</td>\n",
              "      <td>What are some special cares for someone with a...</td>\n",
              "      <td>How can I keep my nose from getting stuffy at ...</td>\n",
              "      <td>1</td>\n",
              "      <td>[1, 2, 3, 4, 5, 6, 7]</td>\n",
              "      <td>[8, 4, 9, 6, 7]</td>\n",
              "      <td>86</td>\n",
              "      <td>52</td>\n",
              "      <td>9998</td>\n",
              "      <td>9998</td>\n",
              "    </tr>\n",
              "    <tr>\n",
              "      <th>1</th>\n",
              "      <td>50</td>\n",
              "      <td>101</td>\n",
              "      <td>102</td>\n",
              "      <td>Is Career Launcher good for RBI Grade B prepar...</td>\n",
              "      <td>How is career launcher online program for RBI ...</td>\n",
              "      <td>1</td>\n",
              "      <td>[10, 11, 12, 13, 14, 15, 16]</td>\n",
              "      <td>[10, 11, 17, 18, 13, 14, 15]</td>\n",
              "      <td>52</td>\n",
              "      <td>54</td>\n",
              "      <td>9998</td>\n",
              "      <td>9998</td>\n",
              "    </tr>\n",
              "    <tr>\n",
              "      <th>2</th>\n",
              "      <td>50</td>\n",
              "      <td>101</td>\n",
              "      <td>102</td>\n",
              "      <td>Is Career Launcher good for RBI Grade B prepar...</td>\n",
              "      <td>How is career launcher online program for RBI ...</td>\n",
              "      <td>1</td>\n",
              "      <td>[10, 11, 12, 13, 14, 15, 16]</td>\n",
              "      <td>[10, 11, 17, 18, 13, 14, 15]</td>\n",
              "      <td>52</td>\n",
              "      <td>54</td>\n",
              "      <td>9998</td>\n",
              "      <td>9998</td>\n",
              "    </tr>\n",
              "    <tr>\n",
              "      <th>3</th>\n",
              "      <td>58</td>\n",
              "      <td>117</td>\n",
              "      <td>118</td>\n",
              "      <td>I was suddenly logged off Gmail. I can't remem...</td>\n",
              "      <td>I can't remember my Gmail password or my recov...</td>\n",
              "      <td>1</td>\n",
              "      <td>[19, 20, 21, 22, 23, 21, 24, 25, 26, 27, 28, 29]</td>\n",
              "      <td>[22, 23, 21, 24, 26, 27, 30, 27]</td>\n",
              "      <td>139</td>\n",
              "      <td>85</td>\n",
              "      <td>9998</td>\n",
              "      <td>9998</td>\n",
              "    </tr>\n",
              "    <tr>\n",
              "      <th>4</th>\n",
              "      <td>61</td>\n",
              "      <td>123</td>\n",
              "      <td>124</td>\n",
              "      <td>Is it normal to have a dark ring around the ir...</td>\n",
              "      <td>What causes a dark ring around the iris? How s...</td>\n",
              "      <td>0</td>\n",
              "      <td>[31, 32, 33, 34, 35, 36]</td>\n",
              "      <td>[37, 32, 33, 34, 35, 38]</td>\n",
              "      <td>59</td>\n",
              "      <td>66</td>\n",
              "      <td>9998</td>\n",
              "      <td>9998</td>\n",
              "    </tr>\n",
              "    <tr>\n",
              "      <th>...</th>\n",
              "      <td>...</td>\n",
              "      <td>...</td>\n",
              "      <td>...</td>\n",
              "      <td>...</td>\n",
              "      <td>...</td>\n",
              "      <td>...</td>\n",
              "      <td>...</td>\n",
              "      <td>...</td>\n",
              "      <td>...</td>\n",
              "      <td>...</td>\n",
              "      <td>...</td>\n",
              "      <td>...</td>\n",
              "    </tr>\n",
              "    <tr>\n",
              "      <th>9993</th>\n",
              "      <td>403892</td>\n",
              "      <td>537514</td>\n",
              "      <td>201639</td>\n",
              "      <td>Why am I so scared all the time?</td>\n",
              "      <td>Why am I so scared?</td>\n",
              "      <td>1</td>\n",
              "      <td>[246, 758]</td>\n",
              "      <td>[246]</td>\n",
              "      <td>32</td>\n",
              "      <td>19</td>\n",
              "      <td>9998</td>\n",
              "      <td>9998</td>\n",
              "    </tr>\n",
              "    <tr>\n",
              "      <th>9994</th>\n",
              "      <td>403892</td>\n",
              "      <td>537514</td>\n",
              "      <td>201639</td>\n",
              "      <td>Why am I so scared all the time?</td>\n",
              "      <td>Why am I so scared?</td>\n",
              "      <td>1</td>\n",
              "      <td>[246, 758]</td>\n",
              "      <td>[246]</td>\n",
              "      <td>32</td>\n",
              "      <td>19</td>\n",
              "      <td>9998</td>\n",
              "      <td>9998</td>\n",
              "    </tr>\n",
              "    <tr>\n",
              "      <th>9995</th>\n",
              "      <td>404050</td>\n",
              "      <td>316912</td>\n",
              "      <td>537677</td>\n",
              "      <td>Why are panic attacks treated at the emergency...</td>\n",
              "      <td>Which was bigger, Alderaan or the Death Star?</td>\n",
              "      <td>0</td>\n",
              "      <td>[6358, 6359, 38, 7941, 1001]</td>\n",
              "      <td>[306, 11584, 2478, 286]</td>\n",
              "      <td>52</td>\n",
              "      <td>45</td>\n",
              "      <td>9998</td>\n",
              "      <td>9998</td>\n",
              "    </tr>\n",
              "    <tr>\n",
              "      <th>9996</th>\n",
              "      <td>404162</td>\n",
              "      <td>396010</td>\n",
              "      <td>29003</td>\n",
              "      <td>What are the options for a chemical engineer a...</td>\n",
              "      <td>What are the career opportunities after finish...</td>\n",
              "      <td>1</td>\n",
              "      <td>[410, 1489, 296, 15, 842]</td>\n",
              "      <td>[10, 1117, 1490, 1489, 329]</td>\n",
              "      <td>58</td>\n",
              "      <td>71</td>\n",
              "      <td>9998</td>\n",
              "      <td>9998</td>\n",
              "    </tr>\n",
              "    <tr>\n",
              "      <th>9997</th>\n",
              "      <td>404189</td>\n",
              "      <td>537839</td>\n",
              "      <td>537840</td>\n",
              "      <td>Are there DIY packaging/shipping places in Col...</td>\n",
              "      <td>Do dogs understand if you have to hurt them, l...</td>\n",
              "      <td>0</td>\n",
              "      <td>[11507, 9280, 4383, 3066, 8516, 11585]</td>\n",
              "      <td>[1491, 2460, 1520, 57, 389, 284]</td>\n",
              "      <td>58</td>\n",
              "      <td>72</td>\n",
              "      <td>9998</td>\n",
              "      <td>9998</td>\n",
              "    </tr>\n",
              "  </tbody>\n",
              "</table>\n",
              "<p>9998 rows × 12 columns</p>\n",
              "</div>\n",
              "      <button class=\"colab-df-convert\" onclick=\"convertToInteractive('df-9bdfbc5d-4317-4e02-b91a-4b49d31b9e31')\"\n",
              "              title=\"Convert this dataframe to an interactive table.\"\n",
              "              style=\"display:none;\">\n",
              "        \n",
              "  <svg xmlns=\"http://www.w3.org/2000/svg\" height=\"24px\"viewBox=\"0 0 24 24\"\n",
              "       width=\"24px\">\n",
              "    <path d=\"M0 0h24v24H0V0z\" fill=\"none\"/>\n",
              "    <path d=\"M18.56 5.44l.94 2.06.94-2.06 2.06-.94-2.06-.94-.94-2.06-.94 2.06-2.06.94zm-11 1L8.5 8.5l.94-2.06 2.06-.94-2.06-.94L8.5 2.5l-.94 2.06-2.06.94zm10 10l.94 2.06.94-2.06 2.06-.94-2.06-.94-.94-2.06-.94 2.06-2.06.94z\"/><path d=\"M17.41 7.96l-1.37-1.37c-.4-.4-.92-.59-1.43-.59-.52 0-1.04.2-1.43.59L10.3 9.45l-7.72 7.72c-.78.78-.78 2.05 0 2.83L4 21.41c.39.39.9.59 1.41.59.51 0 1.02-.2 1.41-.59l7.78-7.78 2.81-2.81c.8-.78.8-2.07 0-2.86zM5.41 20L4 18.59l7.72-7.72 1.47 1.35L5.41 20z\"/>\n",
              "  </svg>\n",
              "      </button>\n",
              "      \n",
              "  <style>\n",
              "    .colab-df-container {\n",
              "      display:flex;\n",
              "      flex-wrap:wrap;\n",
              "      gap: 12px;\n",
              "    }\n",
              "\n",
              "    .colab-df-convert {\n",
              "      background-color: #E8F0FE;\n",
              "      border: none;\n",
              "      border-radius: 50%;\n",
              "      cursor: pointer;\n",
              "      display: none;\n",
              "      fill: #1967D2;\n",
              "      height: 32px;\n",
              "      padding: 0 0 0 0;\n",
              "      width: 32px;\n",
              "    }\n",
              "\n",
              "    .colab-df-convert:hover {\n",
              "      background-color: #E2EBFA;\n",
              "      box-shadow: 0px 1px 2px rgba(60, 64, 67, 0.3), 0px 1px 3px 1px rgba(60, 64, 67, 0.15);\n",
              "      fill: #174EA6;\n",
              "    }\n",
              "\n",
              "    [theme=dark] .colab-df-convert {\n",
              "      background-color: #3B4455;\n",
              "      fill: #D2E3FC;\n",
              "    }\n",
              "\n",
              "    [theme=dark] .colab-df-convert:hover {\n",
              "      background-color: #434B5C;\n",
              "      box-shadow: 0px 1px 3px 1px rgba(0, 0, 0, 0.15);\n",
              "      filter: drop-shadow(0px 1px 2px rgba(0, 0, 0, 0.3));\n",
              "      fill: #FFFFFF;\n",
              "    }\n",
              "  </style>\n",
              "\n",
              "      <script>\n",
              "        const buttonEl =\n",
              "          document.querySelector('#df-9bdfbc5d-4317-4e02-b91a-4b49d31b9e31 button.colab-df-convert');\n",
              "        buttonEl.style.display =\n",
              "          google.colab.kernel.accessAllowed ? 'block' : 'none';\n",
              "\n",
              "        async function convertToInteractive(key) {\n",
              "          const element = document.querySelector('#df-9bdfbc5d-4317-4e02-b91a-4b49d31b9e31');\n",
              "          const dataTable =\n",
              "            await google.colab.kernel.invokeFunction('convertToInteractive',\n",
              "                                                     [key], {});\n",
              "          if (!dataTable) return;\n",
              "\n",
              "          const docLinkHtml = 'Like what you see? Visit the ' +\n",
              "            '<a target=\"_blank\" href=https://colab.research.google.com/notebooks/data_table.ipynb>data table notebook</a>'\n",
              "            + ' to learn more about interactive tables.';\n",
              "          element.innerHTML = '';\n",
              "          dataTable['output_type'] = 'display_data';\n",
              "          await google.colab.output.renderOutput(dataTable, element);\n",
              "          const docLink = document.createElement('div');\n",
              "          docLink.innerHTML = docLinkHtml;\n",
              "          element.appendChild(docLink);\n",
              "        }\n",
              "      </script>\n",
              "    </div>\n",
              "  </div>\n",
              "  "
            ],
            "text/plain": [
              "          id    qid1    qid2  ... lenq2 lenq1_n  lenq2_n\n",
              "0         31      63      64  ...    52    9998     9998\n",
              "1         50     101     102  ...    54    9998     9998\n",
              "2         50     101     102  ...    54    9998     9998\n",
              "3         58     117     118  ...    85    9998     9998\n",
              "4         61     123     124  ...    66    9998     9998\n",
              "...      ...     ...     ...  ...   ...     ...      ...\n",
              "9993  403892  537514  201639  ...    19    9998     9998\n",
              "9994  403892  537514  201639  ...    19    9998     9998\n",
              "9995  404050  316912  537677  ...    45    9998     9998\n",
              "9996  404162  396010   29003  ...    71    9998     9998\n",
              "9997  404189  537839  537840  ...    72    9998     9998\n",
              "\n",
              "[9998 rows x 12 columns]"
            ]
          },
          "metadata": {},
          "execution_count": 14
        }
      ]
    },
    {
      "cell_type": "markdown",
      "source": [
        "##max_seq_length_in_dataset"
      ],
      "metadata": {
        "id": "fXC60Tv8d8R7"
      }
    },
    {
      "cell_type": "code",
      "source": [
        "max_seq_length_in_dataset = max(train_df.question1_n.map(lambda x: len(x)).max(),\n",
        "                     train_df.question2_n.map(lambda x: len(x)).max())\n",
        "print(\"max_seq_length_in_dataset : \",max_seq_length_in_dataset)\n"
      ],
      "metadata": {
        "id": "P4QNwKEM9K4o",
        "colab": {
          "base_uri": "https://localhost:8080/"
        },
        "outputId": "9cd3c679-f0a6-4e94-a3ab-681a99f24e5d"
      },
      "execution_count": 15,
      "outputs": [
        {
          "output_type": "stream",
          "name": "stdout",
          "text": [
            "max_seq_length_in_dataset :  51\n"
          ]
        }
      ]
    },
    {
      "cell_type": "code",
      "source": [
        "train_df.head()"
      ],
      "metadata": {
        "id": "sbuflcpcyhUN",
        "colab": {
          "base_uri": "https://localhost:8080/",
          "height": 337
        },
        "outputId": "9c810f76-4a6d-44c3-e44e-32f2d2af58af"
      },
      "execution_count": 16,
      "outputs": [
        {
          "output_type": "execute_result",
          "data": {
            "text/html": [
              "\n",
              "  <div id=\"df-fce3b8b5-bbbe-46ff-88dc-4fa8bb5c149b\">\n",
              "    <div class=\"colab-df-container\">\n",
              "      <div>\n",
              "<style scoped>\n",
              "    .dataframe tbody tr th:only-of-type {\n",
              "        vertical-align: middle;\n",
              "    }\n",
              "\n",
              "    .dataframe tbody tr th {\n",
              "        vertical-align: top;\n",
              "    }\n",
              "\n",
              "    .dataframe thead th {\n",
              "        text-align: right;\n",
              "    }\n",
              "</style>\n",
              "<table border=\"1\" class=\"dataframe\">\n",
              "  <thead>\n",
              "    <tr style=\"text-align: right;\">\n",
              "      <th></th>\n",
              "      <th>id</th>\n",
              "      <th>qid1</th>\n",
              "      <th>qid2</th>\n",
              "      <th>question1</th>\n",
              "      <th>question2</th>\n",
              "      <th>is_duplicate</th>\n",
              "      <th>question1_n</th>\n",
              "      <th>question2_n</th>\n",
              "      <th>lenq1</th>\n",
              "      <th>lenq2</th>\n",
              "      <th>lenq1_n</th>\n",
              "      <th>lenq2_n</th>\n",
              "    </tr>\n",
              "  </thead>\n",
              "  <tbody>\n",
              "    <tr>\n",
              "      <th>0</th>\n",
              "      <td>31</td>\n",
              "      <td>63</td>\n",
              "      <td>64</td>\n",
              "      <td>What are some special cares for someone with a...</td>\n",
              "      <td>How can I keep my nose from getting stuffy at ...</td>\n",
              "      <td>1</td>\n",
              "      <td>[1, 2, 3, 4, 5, 6, 7]</td>\n",
              "      <td>[8, 4, 9, 6, 7]</td>\n",
              "      <td>86</td>\n",
              "      <td>52</td>\n",
              "      <td>9998</td>\n",
              "      <td>9998</td>\n",
              "    </tr>\n",
              "    <tr>\n",
              "      <th>1</th>\n",
              "      <td>50</td>\n",
              "      <td>101</td>\n",
              "      <td>102</td>\n",
              "      <td>Is Career Launcher good for RBI Grade B prepar...</td>\n",
              "      <td>How is career launcher online program for RBI ...</td>\n",
              "      <td>1</td>\n",
              "      <td>[10, 11, 12, 13, 14, 15, 16]</td>\n",
              "      <td>[10, 11, 17, 18, 13, 14, 15]</td>\n",
              "      <td>52</td>\n",
              "      <td>54</td>\n",
              "      <td>9998</td>\n",
              "      <td>9998</td>\n",
              "    </tr>\n",
              "    <tr>\n",
              "      <th>2</th>\n",
              "      <td>50</td>\n",
              "      <td>101</td>\n",
              "      <td>102</td>\n",
              "      <td>Is Career Launcher good for RBI Grade B prepar...</td>\n",
              "      <td>How is career launcher online program for RBI ...</td>\n",
              "      <td>1</td>\n",
              "      <td>[10, 11, 12, 13, 14, 15, 16]</td>\n",
              "      <td>[10, 11, 17, 18, 13, 14, 15]</td>\n",
              "      <td>52</td>\n",
              "      <td>54</td>\n",
              "      <td>9998</td>\n",
              "      <td>9998</td>\n",
              "    </tr>\n",
              "    <tr>\n",
              "      <th>3</th>\n",
              "      <td>58</td>\n",
              "      <td>117</td>\n",
              "      <td>118</td>\n",
              "      <td>I was suddenly logged off Gmail. I can't remem...</td>\n",
              "      <td>I can't remember my Gmail password or my recov...</td>\n",
              "      <td>1</td>\n",
              "      <td>[19, 20, 21, 22, 23, 21, 24, 25, 26, 27, 28, 29]</td>\n",
              "      <td>[22, 23, 21, 24, 26, 27, 30, 27]</td>\n",
              "      <td>139</td>\n",
              "      <td>85</td>\n",
              "      <td>9998</td>\n",
              "      <td>9998</td>\n",
              "    </tr>\n",
              "    <tr>\n",
              "      <th>4</th>\n",
              "      <td>61</td>\n",
              "      <td>123</td>\n",
              "      <td>124</td>\n",
              "      <td>Is it normal to have a dark ring around the ir...</td>\n",
              "      <td>What causes a dark ring around the iris? How s...</td>\n",
              "      <td>0</td>\n",
              "      <td>[31, 32, 33, 34, 35, 36]</td>\n",
              "      <td>[37, 32, 33, 34, 35, 38]</td>\n",
              "      <td>59</td>\n",
              "      <td>66</td>\n",
              "      <td>9998</td>\n",
              "      <td>9998</td>\n",
              "    </tr>\n",
              "  </tbody>\n",
              "</table>\n",
              "</div>\n",
              "      <button class=\"colab-df-convert\" onclick=\"convertToInteractive('df-fce3b8b5-bbbe-46ff-88dc-4fa8bb5c149b')\"\n",
              "              title=\"Convert this dataframe to an interactive table.\"\n",
              "              style=\"display:none;\">\n",
              "        \n",
              "  <svg xmlns=\"http://www.w3.org/2000/svg\" height=\"24px\"viewBox=\"0 0 24 24\"\n",
              "       width=\"24px\">\n",
              "    <path d=\"M0 0h24v24H0V0z\" fill=\"none\"/>\n",
              "    <path d=\"M18.56 5.44l.94 2.06.94-2.06 2.06-.94-2.06-.94-.94-2.06-.94 2.06-2.06.94zm-11 1L8.5 8.5l.94-2.06 2.06-.94-2.06-.94L8.5 2.5l-.94 2.06-2.06.94zm10 10l.94 2.06.94-2.06 2.06-.94-2.06-.94-.94-2.06-.94 2.06-2.06.94z\"/><path d=\"M17.41 7.96l-1.37-1.37c-.4-.4-.92-.59-1.43-.59-.52 0-1.04.2-1.43.59L10.3 9.45l-7.72 7.72c-.78.78-.78 2.05 0 2.83L4 21.41c.39.39.9.59 1.41.59.51 0 1.02-.2 1.41-.59l7.78-7.78 2.81-2.81c.8-.78.8-2.07 0-2.86zM5.41 20L4 18.59l7.72-7.72 1.47 1.35L5.41 20z\"/>\n",
              "  </svg>\n",
              "      </button>\n",
              "      \n",
              "  <style>\n",
              "    .colab-df-container {\n",
              "      display:flex;\n",
              "      flex-wrap:wrap;\n",
              "      gap: 12px;\n",
              "    }\n",
              "\n",
              "    .colab-df-convert {\n",
              "      background-color: #E8F0FE;\n",
              "      border: none;\n",
              "      border-radius: 50%;\n",
              "      cursor: pointer;\n",
              "      display: none;\n",
              "      fill: #1967D2;\n",
              "      height: 32px;\n",
              "      padding: 0 0 0 0;\n",
              "      width: 32px;\n",
              "    }\n",
              "\n",
              "    .colab-df-convert:hover {\n",
              "      background-color: #E2EBFA;\n",
              "      box-shadow: 0px 1px 2px rgba(60, 64, 67, 0.3), 0px 1px 3px 1px rgba(60, 64, 67, 0.15);\n",
              "      fill: #174EA6;\n",
              "    }\n",
              "\n",
              "    [theme=dark] .colab-df-convert {\n",
              "      background-color: #3B4455;\n",
              "      fill: #D2E3FC;\n",
              "    }\n",
              "\n",
              "    [theme=dark] .colab-df-convert:hover {\n",
              "      background-color: #434B5C;\n",
              "      box-shadow: 0px 1px 3px 1px rgba(0, 0, 0, 0.15);\n",
              "      filter: drop-shadow(0px 1px 2px rgba(0, 0, 0, 0.3));\n",
              "      fill: #FFFFFF;\n",
              "    }\n",
              "  </style>\n",
              "\n",
              "      <script>\n",
              "        const buttonEl =\n",
              "          document.querySelector('#df-fce3b8b5-bbbe-46ff-88dc-4fa8bb5c149b button.colab-df-convert');\n",
              "        buttonEl.style.display =\n",
              "          google.colab.kernel.accessAllowed ? 'block' : 'none';\n",
              "\n",
              "        async function convertToInteractive(key) {\n",
              "          const element = document.querySelector('#df-fce3b8b5-bbbe-46ff-88dc-4fa8bb5c149b');\n",
              "          const dataTable =\n",
              "            await google.colab.kernel.invokeFunction('convertToInteractive',\n",
              "                                                     [key], {});\n",
              "          if (!dataTable) return;\n",
              "\n",
              "          const docLinkHtml = 'Like what you see? Visit the ' +\n",
              "            '<a target=\"_blank\" href=https://colab.research.google.com/notebooks/data_table.ipynb>data table notebook</a>'\n",
              "            + ' to learn more about interactive tables.';\n",
              "          element.innerHTML = '';\n",
              "          dataTable['output_type'] = 'display_data';\n",
              "          await google.colab.output.renderOutput(dataTable, element);\n",
              "          const docLink = document.createElement('div');\n",
              "          docLink.innerHTML = docLinkHtml;\n",
              "          element.appendChild(docLink);\n",
              "        }\n",
              "      </script>\n",
              "    </div>\n",
              "  </div>\n",
              "  "
            ],
            "text/plain": [
              "   id  qid1  qid2  ... lenq2 lenq1_n  lenq2_n\n",
              "0  31    63    64  ...    52    9998     9998\n",
              "1  50   101   102  ...    54    9998     9998\n",
              "2  50   101   102  ...    54    9998     9998\n",
              "3  58   117   118  ...    85    9998     9998\n",
              "4  61   123   124  ...    66    9998     9998\n",
              "\n",
              "[5 rows x 12 columns]"
            ]
          },
          "metadata": {},
          "execution_count": 16
        }
      ]
    },
    {
      "cell_type": "markdown",
      "source": [
        "# Base Model function\n",
        "Take the training data from: \n",
        "question1   question2   is_duplicate\n",
        "borrow Repayment Information Borrow Repayment Date 0\n",
        "become:\n",
        "\n",
        "question1 question2 is_duplicate question1_n question2_n\n",
        "Borrow repayment information Borrow repayment date 0 Borrow repayment information Borrow repayment date\n",
        "\n",
        "After becoming id:\n",
        "question1 question2 is_duplicate question1_n question2_n\n",
        "Borrow repayment information Borrow repayment date 0 [31, 639] [31, 255]"
      ],
      "metadata": {
        "id": "QAJs7oCBkXnC"
      }
    },
    {
      "cell_type": "markdown",
      "source": [
        "## Split training set 80:20"
      ],
      "metadata": {
        "id": "KmdMKMAsefQ7"
      }
    },
    {
      "cell_type": "code",
      "source": [
        "X = train_df[['question1_n', 'question2_n']]\n",
        "Y = train_df['is_duplicate']\n",
        "X_train, X_validation, Y_train, Y_validation = train_test_split(X, Y, test_size=0.2)\n",
        "\n",
        "X_train = split_and_zero_padding(X_train, max_seq_length)\n",
        "X_validation = split_and_zero_padding(X_validation, max_seq_length)"
      ],
      "metadata": {
        "id": "6spfcp5HkFs1"
      },
      "execution_count": 17,
      "outputs": []
    },
    {
      "cell_type": "markdown",
      "source": [
        "## Convert labels to numbers"
      ],
      "metadata": {
        "id": "DhwzIW9Vek0F"
      }
    },
    {
      "cell_type": "code",
      "source": [
        "Y_train = Y_train.values\n",
        "Y_validation = Y_validation.values"
      ],
      "metadata": {
        "id": "3StaNp6ukRgP"
      },
      "execution_count": 18,
      "outputs": []
    },
    {
      "cell_type": "markdown",
      "source": [
        "## Confirm that the data is prepared and correct"
      ],
      "metadata": {
        "id": "p795CrNPenjh"
      }
    },
    {
      "cell_type": "code",
      "source": [
        "print(\"X_train['left'].shape\" , X_train['left'].shape)\n",
        "print(\"X_train['right'].shape\" , X_train['left'].shape)\n",
        "print(\"len(X_train['left'])\" , len(X_train['left']))\n",
        "print(\"len(Y_train)\" , len(Y_train))\n",
        "\n",
        "assert X_train['left'].shape == X_train['right'].shape\n",
        "assert len(X_train['left']) == len(Y_train)"
      ],
      "metadata": {
        "id": "gdI_duEkk3HH",
        "colab": {
          "base_uri": "https://localhost:8080/"
        },
        "outputId": "6932d6fa-aba5-466a-a658-e1ff51cab585"
      },
      "execution_count": 19,
      "outputs": [
        {
          "output_type": "stream",
          "name": "stdout",
          "text": [
            "X_train['left'].shape (7998, 32)\n",
            "X_train['right'].shape (7998, 32)\n",
            "len(X_train['left']) 7998\n",
            "len(Y_train) 7998\n"
          ]
        }
      ]
    },
    {
      "cell_type": "code",
      "source": [
        "print(Y_validation)"
      ],
      "metadata": {
        "id": "rC3heYbFq7lF",
        "colab": {
          "base_uri": "https://localhost:8080/"
        },
        "outputId": "87e33ead-a130-40a5-8806-1295dd00ed07"
      },
      "execution_count": 20,
      "outputs": [
        {
          "output_type": "stream",
          "name": "stdout",
          "text": [
            "[1 1 1 ... 1 1 1]\n"
          ]
        }
      ]
    },
    {
      "cell_type": "markdown",
      "source": [
        "## Hierarchical BiLSTM attention model Funaction  [**HBAM**]\n",
        "\n",
        "---\n",
        "\n"
      ],
      "metadata": {
        "id": "fYMK4WfglDsW"
      }
    },
    {
      "cell_type": "code",
      "source": [
        "def hbam_model(_input):\n",
        "    # word vectorization\n",
        "    embedded = Embedding(len(embeddings), embedding_dim, weights=[embeddings], input_shape=(max_seq_length,),\n",
        "                         trainable=False)(_input)\n",
        "\n",
        "    # multilayerBi-LSTM\n",
        "    activations = Bidirectional(LSTM(n_hidden, return_sequences=True), merge_mode='concat')(embedded)\n",
        "    activations = Bidirectional(LSTM(n_hidden, return_sequences=True), merge_mode='concat')(activations)\n",
        "\n",
        "    # dropout\n",
        "    activations = Dropout(0.5)(activations)\n",
        "\n",
        "    # Attention\n",
        "    attention = TimeDistributed(Dense(1, activation='tanh'))(activations)\n",
        "    attention = Flatten()(attention)\n",
        "    attention = Activation('softmax')(attention)\n",
        "    attention = RepeatVector(n_hidden * 2)(attention)\n",
        "    attention = Permute([2, 1])(attention)\n",
        "    sent_representation = multiply([activations, attention])\n",
        "    sent_representation = Lambda(lambda xin: K.sum(xin, axis=1))(sent_representation)\n",
        "\n",
        "    # dropout\n",
        "    sent_representation = Dropout(0.2)(sent_representation)\n",
        "\n",
        "    return sent_representation"
      ],
      "metadata": {
        "id": "GQYxnMOYk92f"
      },
      "execution_count": 21,
      "outputs": []
    },
    {
      "cell_type": "markdown",
      "source": [
        "## Train Function"
      ],
      "metadata": {
        "id": "3h-z7j4mfiax"
      }
    },
    {
      "cell_type": "code",
      "source": [
        "if __name__ == '__main__':\n",
        "\n",
        "    left_input = Input(shape=(max_seq_length,), dtype='float32')\n",
        "    right_input = Input(shape=(max_seq_length,), dtype='float32')\n",
        "\n",
        "    left_sen_representation = hbam_model(left_input)\n",
        "    right_sen_representation = hbam_model(right_input)\n",
        "\n",
        "    # The Manhattan distance is introduced, and the original \n",
        "    #vector on the obtained transformation concat is \n",
        "    #then subjected to a non-linear transformation \n",
        "    #through a multi-layer DNN, and the sigmoid obtains the similarity\n",
        "    \n",
        "    # I did not use the Mahalanobis distance mentioned \n",
        "    #in https://zhuanlan.zhihu.com/p/31638132. \n",
        "    #I tried Manhattan distance, point product and cos, \n",
        "    #and Manhattan is the best.\n",
        "    \n",
        "    man_distance = ManDist()([left_sen_representation, right_sen_representation])\n",
        "    sen_representation = concatenate([left_sen_representation, right_sen_representation, man_distance])\n",
        "    similarity = Dense(1, activation='sigmoid')(Dense(2)(Dense(4)(Dense(16)(sen_representation))))\n",
        "    model = Model(inputs=[left_input, right_input], outputs=[similarity])\n",
        "\n",
        "    model.compile(loss='mean_squared_error', optimizer= Adam(), metrics=['accuracy'])\n",
        "    model.summary()\n",
        "\n",
        "    training_start_time = time()\n",
        "    malstm_trained = model.fit([X_train['left'], X_train['right']], Y_train,\n",
        "                               batch_size=batch_size, epochs=n_epoch,\n",
        "                               validation_data=([X_validation['left'], X_validation['right']], Y_validation))\n",
        "    training_end_time = time()\n",
        "    print(\"Training time finished.\\n%d epochs in %12.2f\" % (n_epoch, training_end_time - training_start_time))"
      ],
      "metadata": {
        "id": "Me8wi2gGljNx",
        "colab": {
          "base_uri": "https://localhost:8080/"
        },
        "outputId": "62ec17b8-eebf-41c8-ffbd-849ebde65b57"
      },
      "execution_count": 22,
      "outputs": [
        {
          "output_type": "stream",
          "name": "stdout",
          "text": [
            "Model: \"model\"\n",
            "__________________________________________________________________________________________________\n",
            " Layer (type)                   Output Shape         Param #     Connected to                     \n",
            "==================================================================================================\n",
            " input_1 (InputLayer)           [(None, 32)]         0           []                               \n",
            "                                                                                                  \n",
            " input_2 (InputLayer)           [(None, 32)]         0           []                               \n",
            "                                                                                                  \n",
            " embedding (Embedding)          (None, 32, 300)      3475800     ['input_1[0][0]']                \n",
            "                                                                                                  \n",
            " embedding_1 (Embedding)        (None, 32, 300)      3475800     ['input_2[0][0]']                \n",
            "                                                                                                  \n",
            " bidirectional (Bidirectional)  (None, 32, 200)      320800      ['embedding[0][0]']              \n",
            "                                                                                                  \n",
            " bidirectional_2 (Bidirectional  (None, 32, 200)     320800      ['embedding_1[0][0]']            \n",
            " )                                                                                                \n",
            "                                                                                                  \n",
            " bidirectional_1 (Bidirectional  (None, 32, 200)     240800      ['bidirectional[0][0]']          \n",
            " )                                                                                                \n",
            "                                                                                                  \n",
            " bidirectional_3 (Bidirectional  (None, 32, 200)     240800      ['bidirectional_2[0][0]']        \n",
            " )                                                                                                \n",
            "                                                                                                  \n",
            " dropout (Dropout)              (None, 32, 200)      0           ['bidirectional_1[0][0]']        \n",
            "                                                                                                  \n",
            " dropout_2 (Dropout)            (None, 32, 200)      0           ['bidirectional_3[0][0]']        \n",
            "                                                                                                  \n",
            " time_distributed (TimeDistribu  (None, 32, 1)       201         ['dropout[0][0]']                \n",
            " ted)                                                                                             \n",
            "                                                                                                  \n",
            " time_distributed_1 (TimeDistri  (None, 32, 1)       201         ['dropout_2[0][0]']              \n",
            " buted)                                                                                           \n",
            "                                                                                                  \n",
            " flatten (Flatten)              (None, 32)           0           ['time_distributed[0][0]']       \n",
            "                                                                                                  \n",
            " flatten_1 (Flatten)            (None, 32)           0           ['time_distributed_1[0][0]']     \n",
            "                                                                                                  \n",
            " activation (Activation)        (None, 32)           0           ['flatten[0][0]']                \n",
            "                                                                                                  \n",
            " activation_1 (Activation)      (None, 32)           0           ['flatten_1[0][0]']              \n",
            "                                                                                                  \n",
            " repeat_vector (RepeatVector)   (None, 200, 32)      0           ['activation[0][0]']             \n",
            "                                                                                                  \n",
            " repeat_vector_1 (RepeatVector)  (None, 200, 32)     0           ['activation_1[0][0]']           \n",
            "                                                                                                  \n",
            " permute (Permute)              (None, 32, 200)      0           ['repeat_vector[0][0]']          \n",
            "                                                                                                  \n",
            " permute_1 (Permute)            (None, 32, 200)      0           ['repeat_vector_1[0][0]']        \n",
            "                                                                                                  \n",
            " multiply (Multiply)            (None, 32, 200)      0           ['dropout[0][0]',                \n",
            "                                                                  'permute[0][0]']                \n",
            "                                                                                                  \n",
            " multiply_1 (Multiply)          (None, 32, 200)      0           ['dropout_2[0][0]',              \n",
            "                                                                  'permute_1[0][0]']              \n",
            "                                                                                                  \n",
            " lambda (Lambda)                (None, 200)          0           ['multiply[0][0]']               \n",
            "                                                                                                  \n",
            " lambda_1 (Lambda)              (None, 200)          0           ['multiply_1[0][0]']             \n",
            "                                                                                                  \n",
            " dropout_1 (Dropout)            (None, 200)          0           ['lambda[0][0]']                 \n",
            "                                                                                                  \n",
            " dropout_3 (Dropout)            (None, 200)          0           ['lambda_1[0][0]']               \n",
            "                                                                                                  \n",
            " man_dist (ManDist)             (None, 1)            0           ['dropout_1[0][0]',              \n",
            "                                                                  'dropout_3[0][0]']              \n",
            "                                                                                                  \n",
            " concatenate (Concatenate)      (None, 401)          0           ['dropout_1[0][0]',              \n",
            "                                                                  'dropout_3[0][0]',              \n",
            "                                                                  'man_dist[0][0]']               \n",
            "                                                                                                  \n",
            " dense_5 (Dense)                (None, 16)           6432        ['concatenate[0][0]']            \n",
            "                                                                                                  \n",
            " dense_4 (Dense)                (None, 4)            68          ['dense_5[0][0]']                \n",
            "                                                                                                  \n",
            " dense_3 (Dense)                (None, 2)            10          ['dense_4[0][0]']                \n",
            "                                                                                                  \n",
            " dense_2 (Dense)                (None, 1)            3           ['dense_3[0][0]']                \n",
            "                                                                                                  \n",
            "==================================================================================================\n",
            "Total params: 8,081,715\n",
            "Trainable params: 1,130,115\n",
            "Non-trainable params: 6,951,600\n",
            "__________________________________________________________________________________________________\n",
            "Epoch 1/6\n",
            "125/125 [==============================] - 23s 55ms/step - loss: 0.1809 - accuracy: 0.7268 - val_loss: 0.1558 - val_accuracy: 0.7610\n",
            "Epoch 2/6\n",
            "125/125 [==============================] - 4s 28ms/step - loss: 0.1121 - accuracy: 0.8458 - val_loss: 0.1441 - val_accuracy: 0.8025\n",
            "Epoch 3/6\n",
            "125/125 [==============================] - 3s 28ms/step - loss: 0.0672 - accuracy: 0.9136 - val_loss: 0.1458 - val_accuracy: 0.8145\n",
            "Epoch 4/6\n",
            "125/125 [==============================] - 3s 28ms/step - loss: 0.0420 - accuracy: 0.9496 - val_loss: 0.1516 - val_accuracy: 0.8135\n",
            "Epoch 5/6\n",
            "125/125 [==============================] - 3s 28ms/step - loss: 0.0343 - accuracy: 0.9590 - val_loss: 0.1543 - val_accuracy: 0.8165\n",
            "Epoch 6/6\n",
            "125/125 [==============================] - 3s 28ms/step - loss: 0.0265 - accuracy: 0.9711 - val_loss: 0.1426 - val_accuracy: 0.8370\n",
            "Training time finished.\n",
            "6 epochs in        41.03\n"
          ]
        }
      ]
    },
    {
      "cell_type": "markdown",
      "source": [
        "## Plot Accuracy & Loss "
      ],
      "metadata": {
        "id": "_sPpv9exftmH"
      }
    },
    {
      "cell_type": "code",
      "source": [
        "\n",
        "import matplotlib.pyplot as plt\n",
        "#plt.subplot(211)\n",
        "plt.plot(malstm_trained.history['accuracy'])\n",
        "plt.plot(malstm_trained.history['val_accuracy'])\n",
        "plt.title('Model Accuracy')\n",
        "plt.ylabel('Accuracy')\n",
        "plt.xlabel('Epoch')\n",
        "plt.legend(['Train', 'Validation'], loc='upper left')\n",
        "plt.show()\n",
        "\n",
        "# Plot loss\n",
        "#plt.subplot(212)\n",
        "plt.plot(malstm_trained.history['loss'])\n",
        "plt.plot(malstm_trained.history['val_loss'])\n",
        "plt.title('Model Loss')\n",
        "plt.ylabel('Loss')\n",
        "plt.xlabel('Epoch')\n",
        "plt.legend(['Train', 'Validation'], loc='upper right')\n",
        "plt.show()\n",
        "\n",
        "model.save(savepath)\n",
        "print(str(malstm_trained.history['val_accuracy'][-1])[:6] +\"(max: \" + str(max(malstm_trained.history['val_accuracy']))[:6] + \")\")\n",
        "print(\"Done.\")\n"
      ],
      "metadata": {
        "id": "ZTUMrUo-l0JW",
        "colab": {
          "base_uri": "https://localhost:8080/",
          "height": 662
        },
        "outputId": "772794ad-191a-469a-e130-d6e6c7560c1d"
      },
      "execution_count": 23,
      "outputs": [
        {
          "output_type": "display_data",
          "data": {
            "image/png": "[encoded data removed]",
            "text/plain": [
              "<Figure size 432x288 with 1 Axes>"
            ]
          },
          "metadata": {
            "needs_background": "light"
          }
        },
        {
          "output_type": "display_data",
          "data": {
            "image/png": "[encoded data removed]",
            "text/plain": [
              "<Figure size 432x288 with 1 Axes>"
            ]
          },
          "metadata": {
            "needs_background": "light"
          }
        },
        {
          "output_type": "stream",
          "name": "stdout",
          "text": [
            "0.8370(max: 0.8370)\n",
            "Done.\n"
          ]
        },
        {
          "output_type": "stream",
          "name": "stderr",
          "text": [
            "/usr/local/lib/python3.7/dist-packages/keras/engine/functional.py:1410: CustomMaskWarning: Custom mask layers require a config and must override get_config. When loading, the custom mask layer must be passed to the custom_objects argument.\n",
            "  layer_config = serialize_layer_fn(layer)\n"
          ]
        }
      ]
    }
  ]
}